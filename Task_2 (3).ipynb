{
 "cells": [
  {
   "cell_type": "markdown",
   "id": "e94f7da2-096a-4166-a521-0385da61bae9",
   "metadata": {},
   "source": [
    "# Step 1: Reading CSV Files and Manipulating Data Frames\n",
    "## Reading a CSV File"
   ]
  },
  {
   "cell_type": "code",
   "execution_count": 5,
   "id": "f663d4c4-caaa-42a1-b434-7bea643c3b4e",
   "metadata": {},
   "outputs": [
    {
     "name": "stdout",
     "output_type": "stream",
     "text": [
      "Initial DataFrame:\n",
      "       name  age   department  salary\n",
      "0    Alice   25           HR   50000\n",
      "1      Bob   32  Engineering   60000\n",
      "2  Charlie   22    Marketing   45000\n",
      "3    David   45  Engineering   80000\n",
      "4      Eva   28           HR   52000\n"
     ]
    }
   ],
   "source": [
    "import pandas as pd\n",
    "\n",
    "# Reading a CSV file\n",
    "df = pd.read_csv(r'C:\\Users\\Owner\\Downloads\\sample_data.csv')\n",
    "\n",
    "# Displaying the first few rows of the dataframe\n",
    "print(\"Initial DataFrame:\\n\", df.head())\n",
    "\n"
   ]
  },
  {
   "cell_type": "markdown",
   "id": "0a82f45a-dcfd-4af4-a447-5a3b0765c7dd",
   "metadata": {},
   "source": [
    "# Step 2: Performing Simple Data Cleaning Tasks\n",
    "## Handling Missing Values"
   ]
  },
  {
   "cell_type": "code",
   "execution_count": 6,
   "id": "a18bdf32-99c5-4507-a9f9-110da3115b0d",
   "metadata": {},
   "outputs": [
    {
     "name": "stdout",
     "output_type": "stream",
     "text": [
      "Missing values before handling:\n",
      " name          0\n",
      "age           1\n",
      "department    1\n",
      "salary        1\n",
      "dtype: int64\n",
      "DataFrame after filling missing values:\n",
      "       name   age   department   salary\n",
      "0    Alice  25.0           HR  50000.0\n",
      "1      Bob   0.0  Engineering  60000.0\n",
      "2  Charlie  22.0            0  45000.0\n",
      "3    David  45.0  Engineering      0.0\n",
      "4      Eva  28.0           HR  52000.0\n"
     ]
    }
   ],
   "source": [
    "import pandas as pd\n",
    "\n",
    "# Sample data with missing values\n",
    "data_with_missing_values = {\n",
    "    'name': ['Alice', 'Bob', 'Charlie', 'David', 'Eva'],\n",
    "    'age': [25, None, 22, 45, 28],\n",
    "    'department': ['HR', 'Engineering', None, 'Engineering', 'HR'],\n",
    "    'salary': [50000, 60000, 45000, None, 52000]\n",
    "}\n",
    "\n",
    "df = pd.DataFrame(data_with_missing_values)\n",
    "\n",
    "# Checking for missing values\n",
    "print(\"Missing values before handling:\\n\", df.isnull().sum())\n",
    "\n",
    "# Filling missing values with a specific value (e.g., 0)\n",
    "df.fillna(0, inplace=True)\n",
    "\n",
    "# Displaying the dataframe after handling missing values\n",
    "print(\"DataFrame after filling missing values:\\n\", df)\n"
   ]
  },
  {
   "cell_type": "markdown",
   "id": "0bcb64ab-b698-4706-b05c-023e05716c90",
   "metadata": {},
   "source": [
    "## Removing Duplicates"
   ]
  },
  {
   "cell_type": "code",
   "execution_count": 7,
   "id": "fc7e6f49-b2c5-408b-b16a-bc50d8a20549",
   "metadata": {},
   "outputs": [
    {
     "name": "stdout",
     "output_type": "stream",
     "text": [
      "Number of duplicate rows before removal: 1\n",
      "DataFrame after removing duplicates:\n",
      "       name  age   department  salary\n",
      "0    Alice   25           HR   50000\n",
      "1      Bob   32  Engineering   60000\n",
      "2  Charlie   22    Marketing   45000\n",
      "3    David   45  Engineering   80000\n",
      "4      Eva   28           HR   52000\n"
     ]
    }
   ],
   "source": [
    "import pandas as pd\n",
    "\n",
    "# Sample data with duplicates\n",
    "data_with_duplicates = {\n",
    "    'name': ['Alice', 'Bob', 'Charlie', 'David', 'Eva', 'Alice'],\n",
    "    'age': [25, 32, 22, 45, 28, 25],\n",
    "    'department': ['HR', 'Engineering', 'Marketing', 'Engineering', 'HR', 'HR'],\n",
    "    'salary': [50000, 60000, 45000, 80000, 52000, 50000]\n",
    "}\n",
    "\n",
    "df = pd.DataFrame(data_with_duplicates)\n",
    "\n",
    "# Checking for duplicates\n",
    "print(\"Number of duplicate rows before removal:\", df.duplicated().sum())\n",
    "\n",
    "# Removing duplicate rows\n",
    "df.drop_duplicates(inplace=True)\n",
    "\n",
    "# Displaying the dataframe after removing duplicates\n",
    "print(\"DataFrame after removing duplicates:\\n\", df)\n"
   ]
  },
  {
   "cell_type": "markdown",
   "id": "74b84049-5067-4f64-9067-d61409340022",
   "metadata": {},
   "source": [
    "# Step 3: Basic Data Manipulation Operations\n",
    "## Filtering Data"
   ]
  },
  {
   "cell_type": "code",
   "execution_count": 8,
   "id": "bb83c6e7-9247-4bc1-9302-84c47152bfc5",
   "metadata": {},
   "outputs": [
    {
     "name": "stdout",
     "output_type": "stream",
     "text": [
      "Filtered DataFrame:\n",
      "     name  age   department  salary\n",
      "1    Bob   32  Engineering   60000\n",
      "3  David   45  Engineering   80000\n"
     ]
    }
   ],
   "source": [
    "import pandas as pd\n",
    "\n",
    "# Sample data\n",
    "data = {\n",
    "    'name': ['Alice', 'Bob', 'Charlie', 'David', 'Eva'],\n",
    "    'age': [25, 32, 22, 45, 28],\n",
    "    'department': ['HR', 'Engineering', 'Marketing', 'Engineering', 'HR'],\n",
    "    'salary': [50000, 60000, 45000, 80000, 52000]\n",
    "}\n",
    "\n",
    "df = pd.DataFrame(data)\n",
    "\n",
    "# Filtering rows where 'age' is greater than 30\n",
    "filtered_df = df[df['age'] > 30]\n",
    "\n",
    "# Displaying the filtered dataframe\n",
    "print(\"Filtered DataFrame:\\n\", filtered_df)\n"
   ]
  },
  {
   "cell_type": "markdown",
   "id": "4100168a-df8d-4922-b667-67da107afe47",
   "metadata": {},
   "source": [
    "## Sorting Data"
   ]
  },
  {
   "cell_type": "code",
   "execution_count": 9,
   "id": "51b17f30-9718-4c2b-bed7-b8d0106ae76a",
   "metadata": {},
   "outputs": [
    {
     "name": "stdout",
     "output_type": "stream",
     "text": [
      "Sorted DataFrame:\n",
      "       name  age   department  salary\n",
      "3    David   45  Engineering   80000\n",
      "1      Bob   32  Engineering   60000\n",
      "4      Eva   28           HR   52000\n",
      "0    Alice   25           HR   50000\n",
      "2  Charlie   22    Marketing   45000\n"
     ]
    }
   ],
   "source": [
    "import pandas as pd\n",
    "\n",
    "# Sample data\n",
    "data = {\n",
    "    'name': ['Alice', 'Bob', 'Charlie', 'David', 'Eva'],\n",
    "    'age': [25, 32, 22, 45, 28],\n",
    "    'department': ['HR', 'Engineering', 'Marketing', 'Engineering', 'HR'],\n",
    "    'salary': [50000, 60000, 45000, 80000, 52000]\n",
    "}\n",
    "\n",
    "df = pd.DataFrame(data)\n",
    "\n",
    "# Sorting data by 'salary' in descending order\n",
    "sorted_df = df.sort_values(by='salary', ascending=False)\n",
    "\n",
    "# Displaying the sorted dataframe\n",
    "print(\"Sorted DataFrame:\\n\", sorted_df)\n"
   ]
  },
  {
   "cell_type": "markdown",
   "id": "66a0fa39-8f4a-4f2b-847f-421f9421db41",
   "metadata": {},
   "source": [
    "## Grouping Data"
   ]
  },
  {
   "cell_type": "code",
   "execution_count": 11,
   "id": "a2b02557-300e-474f-9c1e-f5b117ff1bb7",
   "metadata": {},
   "outputs": [
    {
     "name": "stdout",
     "output_type": "stream",
     "text": [
      "Grouped DataFrame (Mean Salary by Department):\n",
      " department\n",
      "Engineering    70000.0\n",
      "HR             51000.0\n",
      "Marketing      45000.0\n",
      "Name: salary, dtype: float64\n"
     ]
    }
   ],
   "source": [
    "import pandas as pd\n",
    "\n",
    "# Sample data\n",
    "data = {\n",
    "    'name': ['Alice', 'Bob', 'Charlie', 'David', 'Eva'],\n",
    "    'age': [25, 32, 22, 45, 28],\n",
    "    'department': ['HR', 'Engineering', 'Marketing', 'Engineering', 'HR'],\n",
    "    'salary': [50000, 60000, 45000, 80000, 52000]\n",
    "}\n",
    "\n",
    "df = pd.DataFrame(data)\n",
    "\n",
    "# Grouping data by 'department' and calculating the mean salary\n",
    "grouped_df = df.groupby('department')['salary'].mean()\n",
    "\n",
    "# Displaying the grouped dataframe\n",
    "print(\"Grouped DataFrame (Mean Salary by Department):\\n\", grouped_df)\n"
   ]
  },
  {
   "cell_type": "markdown",
   "id": "c9234bea-434c-4582-b526-4df37f8d5bca",
   "metadata": {},
   "source": [
    "# Putting It All Together"
   ]
  },
  {
   "cell_type": "code",
   "execution_count": 12,
   "id": "a468cd57-d457-4012-899a-80341a5e9ab7",
   "metadata": {},
   "outputs": [
    {
     "name": "stdout",
     "output_type": "stream",
     "text": [
      "Filtered DataFrame:\n",
      "     name  age   department  salary\n",
      "1    Bob   32  Engineering   60000\n",
      "3  David   45  Engineering   80000\n",
      "Sorted DataFrame:\n",
      "       name  age   department  salary\n",
      "3    David   45  Engineering   80000\n",
      "1      Bob   32  Engineering   60000\n",
      "4      Eva   28           HR   52000\n",
      "0    Alice   25           HR   50000\n",
      "2  Charlie   22    Marketing   45000\n",
      "Grouped DataFrame (Mean Salary by Department):\n",
      " department\n",
      "Engineering    70000.0\n",
      "HR             51000.0\n",
      "Marketing      45000.0\n",
      "Name: salary, dtype: float64\n"
     ]
    }
   ],
   "source": [
    "import pandas as pd\n",
    "\n",
    "# Step 1: Read the CSV file\n",
    "df = pd.read_csv(r'C:\\Users\\Owner\\Downloads\\sample_data.csv')\n",
    "\n",
    "# Step 2: Data Cleaning\n",
    "# Handle missing values\n",
    "df.fillna(0, inplace=True)\n",
    "# Remove duplicates\n",
    "df.drop_duplicates(inplace=True)\n",
    "\n",
    "# Step 3: Data Manipulation\n",
    "# Filter rows where 'age' is greater than 30\n",
    "filtered_df = df[df['age'] > 30]\n",
    "\n",
    "# Sort data by 'salary' in descending order\n",
    "sorted_df = df.sort_values(by='salary', ascending=False)\n",
    "\n",
    "# Group data by 'department' and calculate the mean salary\n",
    "grouped_df = df.groupby('department')['salary'].mean()\n",
    "\n",
    "# Display results\n",
    "print(\"Filtered DataFrame:\\n\", filtered_df)\n",
    "print(\"Sorted DataFrame:\\n\", sorted_df)\n",
    "print(\"Grouped DataFrame (Mean Salary by Department):\\n\", grouped_df)\n"
   ]
  },
  {
   "cell_type": "code",
   "execution_count": null,
   "id": "96a8fbf8-4642-4d12-8809-a8c4c8a70a99",
   "metadata": {},
   "outputs": [],
   "source": []
  }
 ],
 "metadata": {
  "kernelspec": {
   "display_name": "Python 3 (ipykernel)",
   "language": "python",
   "name": "python3"
  },
  "language_info": {
   "codemirror_mode": {
    "name": "ipython",
    "version": 3
   },
   "file_extension": ".py",
   "mimetype": "text/x-python",
   "name": "python",
   "nbconvert_exporter": "python",
   "pygments_lexer": "ipython3",
   "version": "3.11.7"
  }
 },
 "nbformat": 4,
 "nbformat_minor": 5
}
