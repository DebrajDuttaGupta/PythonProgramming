{
 "cells": [
  {
   "cell_type": "markdown",
   "id": "f5fad4eb-cf49-4a78-9d72-50e764d9b997",
   "metadata": {},
   "source": [
    "# Building a Simple Web Scraper"
   ]
  },
  {
   "cell_type": "markdown",
   "id": "2dcd2787-7193-4080-9ae0-c2095741062c",
   "metadata": {},
   "source": [
    "## Fetching the Web Page"
   ]
  },
  {
   "cell_type": "markdown",
   "id": "3bccb46a-ddbe-4619-a11c-190fe519f097",
   "metadata": {},
   "source": [
    "### Import Libraries:"
   ]
  },
  {
   "cell_type": "code",
   "execution_count": 1,
   "id": "d9e6b5cf-2a73-4122-88d7-d5e4448f18c1",
   "metadata": {},
   "outputs": [],
   "source": [
    "import requests\n",
    "from bs4 import BeautifulSoup\n",
    "import pandas as pd\n"
   ]
  },
  {
   "cell_type": "markdown",
   "id": "d6b7cd7c-6730-4282-bfb9-149be5c497ac",
   "metadata": {},
   "source": [
    "### Fetch the Web Page:"
   ]
  },
  {
   "cell_type": "code",
   "execution_count": 2,
   "id": "63862ffa-6b9d-4de9-b25c-03c9530169d3",
   "metadata": {},
   "outputs": [
    {
     "name": "stdout",
     "output_type": "stream",
     "text": [
      "Page fetched successfully\n"
     ]
    }
   ],
   "source": [
    "url = 'https://google.com'\n",
    "response = requests.get(url)\n",
    "if response.status_code == 200:\n",
    "    print(\"Page fetched successfully\")\n",
    "else:\n",
    "    print(f\"Failed to retrieve the webpage. Status code: {response.status_code}\")\n"
   ]
  },
  {
   "cell_type": "markdown",
   "id": "00852beb-e7b4-40cf-bf16-38cdd39aee85",
   "metadata": {},
   "source": [
    "### Parse the HTML Content:"
   ]
  },
  {
   "cell_type": "code",
   "execution_count": 3,
   "id": "42a43803-2ea7-48e9-9201-76f21143936d",
   "metadata": {},
   "outputs": [
    {
     "name": "stdout",
     "output_type": "stream",
     "text": [
      "<!DOCTYPE html>\n",
      "<html itemscope=\"\" itemtype=\"http://schema.org/WebPage\" lang=\"en-IN\">\n",
      " <head>\n",
      "  <meta content=\"text/html; charset=utf-8\" http-equiv=\"Content-Type\"/>\n",
      "  <meta content=\"/images/branding/googleg/1x/googleg_standard_color_128dp.png\" itemprop=\"image\"/>\n",
      "  <title>\n",
      "   Google\n",
      "  </title>\n",
      "  <script nonce=\"Dkkl3NeQcr-hdl-DOs87YA\">\n",
      "   (function(){var _g={kEI:'I95yZrLeN-_m2roPtoCvoA4',kEXPI:'0,3700252,1103,26,8,58,2,496821,10216,31559,2872,2891,8349,3405,61296,34266,60058,29268,6621,49751,2,16737,23024,6700,41942,54828,2912,2,2,1,26632,8155,8861,14489,22436,9779,62658,33565,23033,16580,3030,15816,1804,7734,18674,22306,40385,1883,14094,5211785,890,623,39,5991769,2840246,60,5,106,16,23,9,7,2,2,12,7,2,66,27981572,16672,43887,3,318,4,1281,3,2124363,23029351,6870,2,1291,10336,2709,8027,8079,2,558,28025,36870,10511,2370,4832,1575,13845,12953,2212,7981,200,390,5539,4879,7068,2839,26880,1835,10085,7766,3821,2095,2703,1954,155,2,397,2085,1252,12252,7735,738,1,4534,3,1322,2,2540,761,206,3632,206,122,2648,569,4,126,2878,10418,3738,1435,4082,409,519,4408,3,88,1220,4231,3073,687,5227,1401,48,1119,3,5,1922,423,3501,1593,1311,2,3,1415,2,3,9,1679,4618,2,1703,1000,1150,1579,136,580,101,1,208,243,208,19,3113,3054,1665,621,747,6,1530,215,734,3,366,491,1,769,374,2845,117,4,1415,201,1159,479,3,5,480,127,223,437,262,650,2015,3,364,39,256,368,1129,43,684,4,317,555,144,195,241,172,90,599,6,87,4,1,6,41,255,246,1736,5,359,1,3,26,75,231,217,1233,24,110,170,3,1,10,33,356,176,29,150,109,189,38,13,2405,220,349,1021,180,435,220,2,1298,161,216,338,676,206,402,269,752,23,574,91,479,143,2,106,45,8,1,1,325,4,178,302,58,2,9,384,2,217,463,226,558,714,786,628,713,3,486,526,1232,1353,1250,7,21563475,3,3769,10400,2655,342,1011,551,694,296,204,1965',kBL:'38BU',kOPI:89978449};(function(){var a;((a=window.google)==null?0:a.stvsc)?google.kEI=_g.kEI:window.google=_g;}).call(this);})();(function(){google.sn='webhp';google.kHL='en-IN';})();(function(){\n",
      "var h=this||self;function l(){return window.google!==void 0&&window.google.kOPI!==void 0&&window.google.kOPI!==0?window.google.kOPI:null};var m,n=[];function p(a){for(var b;a&&(!a.getAttribute||!(b=a.getAttribute(\"eid\")));)a=a.parentNode;return b||m}function q(a){for(var b=null;a&&(!a.getAttribute||!(b=a.getAttribute(\"leid\")));)a=a.parentNode;return b}function r(a){/^http:/i.test(a)&&window.location.protocol===\"https:\"&&(google.ml&&google.ml(Error(\"a\"),!1,{src:a,glmm:1}),a=\"\");return a}\n",
      "function t(a,b,c,d,k){var e=\"\";b.search(\"&ei=\")===-1&&(e=\"&ei=\"+p(d),b.search(\"&lei=\")===-1&&(d=q(d))&&(e+=\"&lei=\"+d));d=\"\";var g=b.search(\"&cshid=\")===-1&&a!==\"slh\",f=[];f.push([\"zx\",Date.now().toString()]);h._cshid&&g&&f.push([\"cshid\",h._cshid]);c=c();c!=null&&f.push([\"opi\",c.toString()]);for(c=0;c<f.length;c++){if(c===0||c>0)d+=\"&\";d+=f[c][0]+\"=\"+f[c][1]}return\"/\"+(k||\"gen_204\")+\"?atyp=i&ct=\"+String(a)+\"&cad=\"+(b+e+d)};m=google.kEI;google.getEI=p;google.getLEI=q;google.ml=function(){return null};google.log=function(a,b,c,d,k,e){e=e===void 0?l:e;c||(c=t(a,b,e,d,k));if(c=r(c)){a=new Image;var g=n.length;n[g]=a;a.onerror=a.onload=a.onabort=function(){delete n[g]};a.src=c}};google.logUrl=function(a,b){b=b===void 0?l:b;return t(\"\",a,b)};}).call(this);(function(){google.y={};google.sy=[];google.x=function(a,b){if(a)var c=a.id;else{do c=Math.random();while(google.y[c])}google.y[c]=[a,b];return!1};google.sx=function(a){google.sy.push(a)};google.lm=[];google.plm=function(a){google.lm.push.apply(google.lm,a)};google.lq=[];google.load=function(a,b,c){google.lq.push([[a],b,c])};google.loadAll=function(a,b){google.lq.push([a,b])};google.bx=!1;google.lx=function(){};var d=[];google.fce=function(a,b,c,e){d.push([a,b,c,e])};google.qce=d;}).call(this);google.f={};(function(){\n",
      "document.documentElement.addEventListener(\"submit\",function(b){var a;if(a=b.target){var c=a.getAttribute(\"data-submitfalse\");a=c===\"1\"||c===\"q\"&&!a.elements.q.value?!0:!1}else a=!1;a&&(b.preventDefault(),b.stopPropagation())},!0);document.documentElement.addEventListener(\"click\",function(b){var a;a:{for(a=b.target;a&&a!==document.documentElement;a=a.parentElement)if(a.tagName===\"A\"){a=a.getAttribute(\"data-nohref\")===\"1\";break a}a=!1}a&&b.preventDefault()},!0);}).call(this);\n",
      "  </script>\n",
      "  <style>\n",
      "   #gbar,#guser{font-size:13px;padding-top:1px !important;}#gbar{height:22px}#guser{padding-bottom:7px !important;text-align:right}.gbh,.gbd{border-top:1px solid #c9d7f1;font-size:1px}.gbh{height:0;position:absolute;top:24px;width:100%}@media all{.gb1{height:22px;margin-right:.5em;vertical-align:top}#gbar{float:left}}a.gb1,a.gb4{text-decoration:underline !important}a.gb1,a.gb4{color:#00c !important}.gbi .gb4{color:#dd8e27 !important}.gbf .gb4{color:#900 !important}\n",
      "  </style>\n",
      "  <style>\n",
      "   body,td,a,p,.h{font-family:arial,sans-serif}body{margin:0;overflow-y:scroll}#gog{padding:3px 8px 0}td{line-height:.8em}.gac_m td{line-height:17px}form{margin-bottom:20px}.h{color:#1967d2}em{font-weight:bold;font-style:normal}.lst{height:25px;width:496px}.gsfi,.lst{font:18px arial,sans-serif}.gsfs{font:17px arial,sans-serif}.ds{display:inline-box;display:inline-block;margin:3px 0 4px;margin-left:4px}input{font-family:inherit}body{background:#fff;color:#000}a{color:#681da8;text-decoration:none}a:hover,a:active{text-decoration:underline}.fl a{color:#1967d2}a:visited{color:#681da8}.sblc{padding-top:5px}.sblc a{display:block;margin:2px 0;margin-left:13px;font-size:11px}.lsbb{background:#f8f9fa;border:solid 1px;border-color:#dadce0 #70757a #70757a #dadce0;height:30px}.lsbb{display:block}#WqQANb a{display:inline-block;margin:0 12px}.lsb{background:url(/images/nav_logo229.png) 0 -261px repeat-x;color:#000;border:none;cursor:pointer;height:30px;margin:0;outline:0;font:15px arial,sans-serif;vertical-align:top}.lsb:active{background:#dadce0}.lst:focus{outline:none}\n",
      "  </style>\n",
      "  <script nonce=\"Dkkl3NeQcr-hdl-DOs87YA\">\n",
      "   (function(){window.google.erd={jsr:1,bv:2027,de:true};\n",
      "var h=this||self;var k,l=(k=h.mei)!=null?k:1,n,p=(n=h.sdo)!=null?n:!0,q=0,r,t=google.erd,v=t.jsr;google.ml=function(a,b,d,m,e){e=e===void 0?2:e;b&&(r=a&&a.message);d===void 0&&(d={});d.cad=\"ple_\"+google.ple+\".aple_\"+google.aple;if(google.dl)return google.dl(a,e,d,!0),null;b=d;if(v<0){window.console&&console.error(a,b);if(v===-2)throw a;b=!1}else b=!a||!a.message||a.message===\"Error loading script\"||q>=l&&!m?!1:!0;if(!b)return null;q++;d=d||{};b=encodeURIComponent;var c=\"/gen_204?atyp=i&ei=\"+b(google.kEI);google.kEXPI&&(c+=\"&jexpid=\"+b(google.kEXPI));c+=\"&srcpg=\"+b(google.sn)+\"&jsr=\"+b(t.jsr)+\n",
      "\"&bver=\"+b(t.bv);var f=a.lineNumber;f!==void 0&&(c+=\"&line=\"+f);var g=a.fileName;g&&(g.indexOf(\"-extension:/\")>0&&(e=3),c+=\"&script=\"+b(g),f&&g===window.location.href&&(f=document.documentElement.outerHTML.split(\"\\n\")[f],c+=\"&cad=\"+b(f?f.substring(0,300):\"No script found.\")));google.ple&&google.ple===1&&(e=2);c+=\"&jsel=\"+e;for(var u in d)c+=\"&\",c+=b(u),c+=\"=\",c+=b(d[u]);c=c+\"&emsg=\"+b(a.name+\": \"+a.message);c=c+\"&jsst=\"+b(a.stack||\"N/A\");c.length>=12288&&(c=c.substr(0,12288));a=c;m||google.log(0,\"\",a);return a};window.onerror=function(a,b,d,m,e){r!==a&&(a=e instanceof Error?e:Error(a),d===void 0||\"lineNumber\"in a||(a.lineNumber=d),b===void 0||\"fileName\"in a||(a.fileName=b),google.ml(a,!1,void 0,!1,a.name===\"SyntaxError\"||a.message.substring(0,11)===\"SyntaxError\"||a.message.indexOf(\"Script error\")!==-1?3:0));r=null;p&&q>=l&&(window.onerror=null)};})();\n",
      "  </script>\n",
      " </head>\n",
      " <body bgcolor=\"#fff\">\n",
      "  <script nonce=\"Dkkl3NeQcr-hdl-DOs87YA\">\n",
      "   (function(){var src='/images/nav_logo229.png';var iesg=false;document.body.onload = function(){window.n && window.n();if (document.images){new Image().src=src;}\n",
      "if (!iesg){document.f&&document.f.q.focus();document.gbqf&&document.gbqf.q.focus();}\n",
      "}\n",
      "})();\n",
      "  </script>\n",
      "  <div id=\"mngb\">\n",
      "   <div id=\"gbar\">\n",
      "    <nobr>\n",
      "     <b class=\"gb1\">\n",
      "      Search\n",
      "     </b>\n",
      "     <a class=\"gb1\" href=\"https://www.google.com/imghp?hl=en&amp;tab=wi\">\n",
      "      Images\n",
      "     </a>\n",
      "     <a class=\"gb1\" href=\"https://maps.google.co.in/maps?hl=en&amp;tab=wl\">\n",
      "      Maps\n",
      "     </a>\n",
      "     <a class=\"gb1\" href=\"https://play.google.com/?hl=en&amp;tab=w8\">\n",
      "      Play\n",
      "     </a>\n",
      "     <a class=\"gb1\" href=\"https://www.youtube.com/?tab=w1\">\n",
      "      YouTube\n",
      "     </a>\n",
      "     <a class=\"gb1\" href=\"https://news.google.com/?tab=wn\">\n",
      "      News\n",
      "     </a>\n",
      "     <a class=\"gb1\" href=\"https://mail.google.com/mail/?tab=wm\">\n",
      "      Gmail\n",
      "     </a>\n",
      "     <a class=\"gb1\" href=\"https://drive.google.com/?tab=wo\">\n",
      "      Drive\n",
      "     </a>\n",
      "     <a class=\"gb1\" href=\"https://www.google.co.in/intl/en/about/products?tab=wh\" style=\"text-decoration:none\">\n",
      "      <u>\n",
      "       More\n",
      "      </u>\n",
      "      »\n",
      "     </a>\n",
      "    </nobr>\n",
      "   </div>\n",
      "   <div id=\"guser\" width=\"100%\">\n",
      "    <nobr>\n",
      "     <span class=\"gbi\" id=\"gbn\">\n",
      "     </span>\n",
      "     <span class=\"gbf\" id=\"gbf\">\n",
      "     </span>\n",
      "     <span id=\"gbe\">\n",
      "     </span>\n",
      "     <a class=\"gb4\" href=\"http://www.google.co.in/history/optout?hl=en\">\n",
      "      Web History\n",
      "     </a>\n",
      "     |\n",
      "     <a class=\"gb4\" href=\"/preferences?hl=en\">\n",
      "      Settings\n",
      "     </a>\n",
      "     |\n",
      "     <a class=\"gb4\" href=\"https://accounts.google.com/ServiceLogin?hl=en&amp;passive=true&amp;continue=https://www.google.com/&amp;ec=GAZAAQ\" id=\"gb_70\" target=\"_top\">\n",
      "      Sign in\n",
      "     </a>\n",
      "    </nobr>\n",
      "   </div>\n",
      "   <div class=\"gbh\" style=\"left:0\">\n",
      "   </div>\n",
      "   <div class=\"gbh\" style=\"right:0\">\n",
      "   </div>\n",
      "  </div>\n",
      "  <center>\n",
      "   <br clear=\"all\" id=\"lgpd\"/>\n",
      "   <div id=\"lga\">\n",
      "    <img alt=\"Google\" height=\"92\" id=\"hplogo\" src=\"/images/branding/googlelogo/1x/googlelogo_white_background_color_272x92dp.png\" style=\"padding:28px 0 14px\" width=\"272\"/>\n",
      "    <br/>\n",
      "    <br/>\n",
      "   </div>\n",
      "   <form action=\"/search\" name=\"f\">\n",
      "    <table cellpadding=\"0\" cellspacing=\"0\">\n",
      "     <tr valign=\"top\">\n",
      "      <td width=\"25%\">\n",
      "      </td>\n",
      "      <td align=\"center\" nowrap=\"\">\n",
      "       <input name=\"ie\" type=\"hidden\" value=\"ISO-8859-1\"/>\n",
      "       <input name=\"hl\" type=\"hidden\" value=\"en-IN\"/>\n",
      "       <input name=\"source\" type=\"hidden\" value=\"hp\"/>\n",
      "       <input name=\"biw\" type=\"hidden\"/>\n",
      "       <input name=\"bih\" type=\"hidden\"/>\n",
      "       <div class=\"ds\" style=\"height:32px;margin:4px 0\">\n",
      "        <input autocomplete=\"off\" class=\"lst\" maxlength=\"2048\" name=\"q\" size=\"57\" style=\"margin:0;padding:5px 8px 0 6px;vertical-align:top;color:#000\" title=\"Google Search\" value=\"\"/>\n",
      "       </div>\n",
      "       <br style=\"line-height:0\"/>\n",
      "       <span class=\"ds\">\n",
      "        <span class=\"lsbb\">\n",
      "         <input class=\"lsb\" name=\"btnG\" type=\"submit\" value=\"Google Search\"/>\n",
      "        </span>\n",
      "       </span>\n",
      "       <span class=\"ds\">\n",
      "        <span class=\"lsbb\">\n",
      "         <input class=\"lsb\" id=\"tsuid_1\" name=\"btnI\" type=\"submit\" value=\"I'm Feeling Lucky\"/>\n",
      "         <script nonce=\"Dkkl3NeQcr-hdl-DOs87YA\">\n",
      "          (function(){var id='tsuid_1';document.getElementById(id).onclick = function(){if (this.form.q.value){this.checked = 1;if (this.form.iflsig)this.form.iflsig.disabled = false;}\n",
      "else top.location='/doodles/';};})();\n",
      "         </script>\n",
      "         <input name=\"iflsig\" type=\"hidden\" value=\"AL9hbdgAAAAAZnLsM6todVuVMdndgwGu9ezMeN3U1_Vn\"/>\n",
      "        </span>\n",
      "       </span>\n",
      "      </td>\n",
      "      <td align=\"left\" class=\"fl sblc\" nowrap=\"\" width=\"25%\">\n",
      "       <a href=\"/advanced_search?hl=en-IN&amp;authuser=0\">\n",
      "        Advanced search\n",
      "       </a>\n",
      "      </td>\n",
      "     </tr>\n",
      "    </table>\n",
      "    <input id=\"gbv\" name=\"gbv\" type=\"hidden\" value=\"1\"/>\n",
      "    <script nonce=\"Dkkl3NeQcr-hdl-DOs87YA\">\n",
      "     (function(){var a,b=\"1\";if(document&&document.getElementById)if(typeof XMLHttpRequest!=\"undefined\")b=\"2\";else if(typeof ActiveXObject!=\"undefined\"){var c,d,e=[\"MSXML2.XMLHTTP.6.0\",\"MSXML2.XMLHTTP.3.0\",\"MSXML2.XMLHTTP\",\"Microsoft.XMLHTTP\"];for(c=0;d=e[c++];)try{new ActiveXObject(d),b=\"2\"}catch(h){}}a=b;if(a==\"2\"&&location.search.indexOf(\"&gbv=2\")==-1){var f=google.gbvu,g=document.getElementById(\"gbv\");g&&(g.value=a);f&&window.setTimeout(function(){location.href=f},0)};}).call(this);\n",
      "    </script>\n",
      "   </form>\n",
      "   <div id=\"gac_scont\">\n",
      "   </div>\n",
      "   <div style=\"font-size:83%;min-height:3.5em\">\n",
      "    <br/>\n",
      "    <div id=\"gws-output-pages-elements-homepage_additional_languages__als\">\n",
      "     <style>\n",
      "      #gws-output-pages-elements-homepage_additional_languages__als{font-size:small;margin-bottom:24px}#SIvCob{color:#474747;display:inline-block;line-height:28px;}#SIvCob a{padding:0 3px;}.H6sW5{display:inline-block;margin:0 2px;white-space:nowrap}.z4hgWe{display:inline-block;margin:0 2px}\n",
      "     </style>\n",
      "     <div id=\"SIvCob\">\n",
      "      Google offered in:\n",
      "      <a href=\"https://www.google.com/setprefs?sig=0_Pi2CIamSrEne3LEuj9OOboxYrz8%3D&amp;hl=hi&amp;source=homepage&amp;sa=X&amp;ved=0ahUKEwjy-93w4-eGAxVvs1YBHTbAC-QQ2ZgBCAY\">\n",
      "       हिन्दी\n",
      "      </a>\n",
      "      <a href=\"https://www.google.com/setprefs?sig=0_Pi2CIamSrEne3LEuj9OOboxYrz8%3D&amp;hl=bn&amp;source=homepage&amp;sa=X&amp;ved=0ahUKEwjy-93w4-eGAxVvs1YBHTbAC-QQ2ZgBCAc\">\n",
      "       বাংলা\n",
      "      </a>\n",
      "      <a href=\"https://www.google.com/setprefs?sig=0_Pi2CIamSrEne3LEuj9OOboxYrz8%3D&amp;hl=te&amp;source=homepage&amp;sa=X&amp;ved=0ahUKEwjy-93w4-eGAxVvs1YBHTbAC-QQ2ZgBCAg\">\n",
      "       తెలుగు\n",
      "      </a>\n",
      "      <a href=\"https://www.google.com/setprefs?sig=0_Pi2CIamSrEne3LEuj9OOboxYrz8%3D&amp;hl=mr&amp;source=homepage&amp;sa=X&amp;ved=0ahUKEwjy-93w4-eGAxVvs1YBHTbAC-QQ2ZgBCAk\">\n",
      "       मराठी\n",
      "      </a>\n",
      "      <a href=\"https://www.google.com/setprefs?sig=0_Pi2CIamSrEne3LEuj9OOboxYrz8%3D&amp;hl=ta&amp;source=homepage&amp;sa=X&amp;ved=0ahUKEwjy-93w4-eGAxVvs1YBHTbAC-QQ2ZgBCAo\">\n",
      "       தமிழ்\n",
      "      </a>\n",
      "      <a href=\"https://www.google.com/setprefs?sig=0_Pi2CIamSrEne3LEuj9OOboxYrz8%3D&amp;hl=gu&amp;source=homepage&amp;sa=X&amp;ved=0ahUKEwjy-93w4-eGAxVvs1YBHTbAC-QQ2ZgBCAs\">\n",
      "       ગુજરાતી\n",
      "      </a>\n",
      "      <a href=\"https://www.google.com/setprefs?sig=0_Pi2CIamSrEne3LEuj9OOboxYrz8%3D&amp;hl=kn&amp;source=homepage&amp;sa=X&amp;ved=0ahUKEwjy-93w4-eGAxVvs1YBHTbAC-QQ2ZgBCAw\">\n",
      "       ಕನ್ನಡ\n",
      "      </a>\n",
      "      <a href=\"https://www.google.com/setprefs?sig=0_Pi2CIamSrEne3LEuj9OOboxYrz8%3D&amp;hl=ml&amp;source=homepage&amp;sa=X&amp;ved=0ahUKEwjy-93w4-eGAxVvs1YBHTbAC-QQ2ZgBCA0\">\n",
      "       മലയാളം\n",
      "      </a>\n",
      "      <a href=\"https://www.google.com/setprefs?sig=0_Pi2CIamSrEne3LEuj9OOboxYrz8%3D&amp;hl=pa&amp;source=homepage&amp;sa=X&amp;ved=0ahUKEwjy-93w4-eGAxVvs1YBHTbAC-QQ2ZgBCA4\">\n",
      "       ਪੰਜਾਬੀ\n",
      "      </a>\n",
      "     </div>\n",
      "    </div>\n",
      "   </div>\n",
      "   <span id=\"footer\">\n",
      "    <div style=\"font-size:10pt\">\n",
      "     <div id=\"WqQANb\" style=\"margin:19px auto;text-align:center\">\n",
      "      <a href=\"/intl/en/ads/\">\n",
      "       Advertising\n",
      "      </a>\n",
      "      <a href=\"http://www.google.co.in/services/\">\n",
      "       Business Solutions\n",
      "      </a>\n",
      "      <a href=\"/intl/en/about.html\">\n",
      "       About Google\n",
      "      </a>\n",
      "      <a href=\"https://www.google.com/setprefdomain?prefdom=IN&amp;prev=https://www.google.co.in/&amp;sig=K_DDtQ2BzU-U4rjiEhhF_qFvnyyvU%3D\">\n",
      "       Google.co.in\n",
      "      </a>\n",
      "     </div>\n",
      "    </div>\n",
      "    <p style=\"font-size:8pt;color:#70757a\">\n",
      "     © 2024 -\n",
      "     <a href=\"/intl/en/policies/privacy/\">\n",
      "      Privacy\n",
      "     </a>\n",
      "     -\n",
      "     <a href=\"/intl/en/policies/terms/\">\n",
      "      Terms\n",
      "     </a>\n",
      "    </p>\n",
      "   </span>\n",
      "  </center>\n",
      "  <script nonce=\"Dkkl3NeQcr-hdl-DOs87YA\">\n",
      "   (function(){window.google.cdo={height:757,width:1440};(function(){var a=window.innerWidth,b=window.innerHeight;if(!a||!b){var c=window.document,d=c.compatMode==\"CSS1Compat\"?c.documentElement:c.body;a=d.clientWidth;b=d.clientHeight}\n",
      "if(a&&b&&(a!=google.cdo.width||b!=google.cdo.height)){var e=google,f=e.log,g=\"/client_204?&atyp=i&biw=\"+a+\"&bih=\"+b+\"&ei=\"+google.kEI,h=\"\",k=[],l=window.google!==void 0&&window.google.kOPI!==void 0&&window.google.kOPI!==0?window.google.kOPI:null;l!=null&&k.push([\"opi\",l.toString()]);for(var m=0;m<k.length;m++){if(m===0||m>0)h+=\"&\";h+=k[m][0]+\"=\"+k[m][1]}f.call(e,\"\",\"\",g+h)};}).call(this);})();\n",
      "  </script>\n",
      "  <script nonce=\"Dkkl3NeQcr-hdl-DOs87YA\">\n",
      "   (function(){google.xjs={basecomb:'/xjs/_/js/k\\x3dxjs.hp.en.04egKgkNIaM.O/ck\\x3dxjs.hp.AIaZ7Tca654.L.X.O/am\\x3dAQAAAAEAAAAAAAAAAAAAAAAAAAAAAAQAAAAAAAAABMABAAAABAAIBAAAAIAfAAAAAAAAABAAQAAEAuBAfEcAIACLAADwAg/d\\x3d1/ed\\x3d1/dg\\x3d0/ujg\\x3d1/rs\\x3dACT90oFAusLFdM8jY80HQVDmNdb5okmVzg',basecss:'/xjs/_/ss/k\\x3dxjs.hp.AIaZ7Tca654.L.X.O/am\\x3dAQAAAAEAAAAAAAAAAAAAAAAAAAAAAAAAAAAAAAAAAAAAAAAABAAIBAAAAAAAAAAAAAAAABAAQAAEAg/rs\\x3dACT90oHfOHiEtcDfzAf313_g2MPnkAEtww',basejs:'/xjs/_/js/k\\x3dxjs.hp.en.04egKgkNIaM.O/am\\x3dAAAAAAAAAAAAAAAAAAAAAAAAAAAAAAQAAAAAAAAABMABAAAAAAAAAAAAAIAfAAAAAAAAAAAAAAAAAOBAfEcAIACLAADwAg/dg\\x3d0/rs\\x3dACT90oEubdxDCEWngWYhEheWurJ30G9bNw',excm:[]};})();\n",
      "  </script>\n",
      "  <link href=\"/xjs/_/ss/k=xjs.hp.AIaZ7Tca654.L.X.O/am=AQAAAAEAAAAAAAAAAAAAAAAAAAAAAAAAAAAAAAAAAAAAAAAABAAIBAAAAAAAAAAAAAAAABAAQAAEAg/d=1/ed=1/rs=ACT90oHfOHiEtcDfzAf313_g2MPnkAEtww/m=sb_he,d\" nonce=\"Dkkl3NeQcr-hdl-DOs87YA\" rel=\"stylesheet\"/>\n",
      "  <script nonce=\"Dkkl3NeQcr-hdl-DOs87YA\">\n",
      "   (function(){var u='/xjs/_/js/k\\x3dxjs.hp.en.04egKgkNIaM.O/am\\x3dAAAAAAAAAAAAAAAAAAAAAAAAAAAAAAQAAAAAAAAABMABAAAAAAAAAAAAAIAfAAAAAAAAAAAAAAAAAOBAfEcAIACLAADwAg/d\\x3d1/ed\\x3d1/rs\\x3dACT90oEubdxDCEWngWYhEheWurJ30G9bNw/m\\x3dsb_he,d';var st=1;var amd=1000;var v=false;\n",
      "var e=this||self,f=function(a){return a};var g;var h=function(a){this.g=a};h.prototype.toString=function(){return this.g+\"\"};var k={};\n",
      "function l(a,b){a.src=b instanceof h&&b.constructor===h?b.g:\"type_error:TrustedResourceUrl\";var c,d;(c=(b=(d=(c=(a.ownerDocument&&a.ownerDocument.defaultView||window).document).querySelector)==null?void 0:d.call(c,\"script[nonce]\"))?b.nonce||b.getAttribute(\"nonce\")||\"\":\"\")&&a.setAttribute(\"nonce\",c)};var m=function(){var a=document;var b=\"SCRIPT\";a.contentType===\"application/xhtml+xml\"&&(b=b.toLowerCase());return a.createElement(b)};function n(a){a=a===null?\"null\":a===void 0?\"undefined\":a;if(g===void 0){var b=null;var c=e.trustedTypes;if(c&&c.createPolicy){try{b=c.createPolicy(\"goog#html\",{createHTML:f,createScript:f,createScriptURL:f})}catch(d){e.console&&e.console.error(d.message)}g=b}else g=b}a=(b=g)?b.createScriptURL(a):a;return new h(a,k)};google.ps===void 0&&(google.ps=[]);function p(){var a=u,b=function(){};google.lx=google.stvsc?b:function(){q(a);google.lx=b};google.bx||google.lx()}function r(a,b){b&&l(a,n(b));var c=a.onload;a.onload=function(d){c&&c(d);google.ps=google.ps.filter(function(B){return a!==B})};google.ps.push(a);document.body.appendChild(a)}google.as=r;function q(a){google.timers&&google.timers.load&&google.tick&&google.tick(\"load\",\"xjsls\");var b=m();b.onerror=function(){google.ple=1};b.onload=function(){google.ple=0};google.xjsus=void 0;r(b,a);google.aple=-1;google.psa=!0};function t(a){var b=a.getAttribute(\"jscontroller\");return(b===\"UBXHI\"||b===\"R3fhkb\"||b===\"TSZEqd\")&&a.hasAttribute(\"data-src\")}for(var w=document.getElementsByTagName(\"img\"),x=0,y=w.length;x<y;++x){var z=w[x];Number(z.getAttribute(\"data-atf\"))&1&&t(z)&&(z.src=z.getAttribute(\"data-src\"))};google.xjsu=u;e._F_jsUrl=u;var A=!1;function C(){A||(p(),A=!0)}\n",
      "setTimeout(function(){google&&google.tick&&google.timers&&google.timers.load&&google.tick(\"load\",\"xjspls\");var a;if(!(a=st!==1||!google.caft||v&&document.visibilityState!==\"visible\"))a:{a=document.getElementsByTagName(\"img\");for(var b=0,c=a.length;b<c;b++){var d=a[b];if(d.hasAttribute(\"data-lzy_\")&&Number(d.getAttribute(\"data-atf\"))&1&&!t(d)){a=!0;break a}}a=!1}a?st!==2||!google.rairicb||v&&document.visibilityState!==\"visible\"?p():(window.setTimeout(C,amd),google.rairicb(C)):(window.setTimeout(C,amd),google.caft(C))},0);})();window._ = window._ || {};window._DumpException = _._DumpException = function(e){throw e;};window._s = window._s || {};_s._DumpException = _._DumpException;window._qs = window._qs || {};_qs._DumpException = _._DumpException;(function(){var t=[1,4,0,0,0,335544320,0,268764160,114756,1048581,16512,132120720,0,0,33816577,272105601,536889212,142400,12032];window._F_toggles = window._xjs_toggles = t;})();function _F_installCss(c){}\n",
      "(function(){google.jl={bfl:0,dw:false,ine:false,ubm:false,uwp:true,vs:false};})();(function(){var pmc='{\\x22d\\x22:{},\\x22sb_he\\x22:{\\x22agen\\x22:false,\\x22cgen\\x22:false,\\x22client\\x22:\\x22heirloom-hp\\x22,\\x22dh\\x22:true,\\x22ds\\x22:\\x22\\x22,\\x22fl\\x22:true,\\x22host\\x22:\\x22google.com\\x22,\\x22jsonp\\x22:true,\\x22msgs\\x22:{\\x22cibl\\x22:\\x22Clear Search\\x22,\\x22dym\\x22:\\x22Did you mean:\\x22,\\x22lcky\\x22:\\x22I\\\\u0026#39;m Feeling Lucky\\x22,\\x22lml\\x22:\\x22Learn more\\x22,\\x22psrc\\x22:\\x22This search was removed from your \\\\u003Ca href\\x3d\\\\\\x22/history\\\\\\x22\\\\u003EWeb History\\\\u003C/a\\\\u003E\\x22,\\x22psrl\\x22:\\x22Remove\\x22,\\x22sbit\\x22:\\x22Search by image\\x22,\\x22srch\\x22:\\x22Google Search\\x22},\\x22ovr\\x22:{},\\x22pq\\x22:\\x22\\x22,\\x22rfs\\x22:[],\\x22sbas\\x22:\\x220 3px 8px 0 rgba(0,0,0,0.2),0 0 0 1px rgba(0,0,0,0.08)\\x22,\\x22stok\\x22:\\x22KjhTfDvEmtZtqvoekIslLFrQCcA\\x22}}';google.pmc=JSON.parse(pmc);})();(function(){var c=function(a){var b=0;return function(){return b<a.length?{done:!1,value:a[b++]}:{done:!0}}};\n",
      "var e=this||self;var g,h;a:{for(var k=[\"CLOSURE_FLAGS\"],l=e,n=0;n<k.length;n++)if(l=l[k[n]],l==null){h=null;break a}h=l}var p=h&&h[610401301];g=p!=null?p:!1;var q,r=e.navigator;q=r?r.userAgentData||null:null;function t(a){return g?q?q.brands.some(function(b){return(b=b.brand)&&b.indexOf(a)!=-1}):!1:!1}function u(a){var b;a:{if(b=e.navigator)if(b=b.userAgent)break a;b=\"\"}return b.indexOf(a)!=-1};function v(){return g?!!q&&q.brands.length>0:!1}function w(){return u(\"Safari\")&&!(x()||(v()?0:u(\"Coast\"))||(v()?0:u(\"Opera\"))||(v()?0:u(\"Edge\"))||(v()?t(\"Microsoft Edge\"):u(\"Edg/\"))||(v()?t(\"Opera\"):u(\"OPR\"))||u(\"Firefox\")||u(\"FxiOS\")||u(\"Silk\")||u(\"Android\"))}function x(){return v()?t(\"Chromium\"):(u(\"Chrome\")||u(\"CriOS\"))&&!(v()?0:u(\"Edge\"))||u(\"Silk\")}function y(){return u(\"Android\")&&!(x()||u(\"Firefox\")||u(\"FxiOS\")||(v()?0:u(\"Opera\"))||u(\"Silk\"))};var z=v()?!1:u(\"Trident\")||u(\"MSIE\");y();x();w();var A;A=typeof Symbol===\"function\"&&typeof Symbol()===\"symbol\"?Symbol():void 0;var B=[];(A?function(a,b){a[A]=b}:function(a,b){a.g!==void 0?a.g=b:Object.defineProperties(a,{g:{value:b,configurable:!0,writable:!0,enumerable:!1}})})(B,55);Object.freeze(B);var C=function(){};Object.freeze(new function(){});Object.freeze(new C);Object.freeze(new C);Object.freeze({});var D=!z&&!w(),G=function(a){if(/-[a-z]/.test(\"ved\"))return null;if(D&&a.dataset){if(y()&&!(\"ved\"in a.dataset))return null;a=a.dataset.ved;return a===void 0?null:a}return a.getAttribute(\"data-\"+\"ved\".replace(/([A-Z])/g,\"-$1\").toLowerCase())};var H=[],I=null;function J(a){a=a.target;var b=performance.now(),f=[],K=f.concat,d=H;if(!(d instanceof Array)){var m=typeof Symbol!=\"undefined\"&&Symbol.iterator&&d[Symbol.iterator];if(m)d=m.call(d);else if(typeof d.length==\"number\")d={next:c(d)};else throw Error(\"b`\"+String(d));for(var E=[];!(m=d.next()).done;)E.push(m.value);d=E}H=K.call(f,d,[b]);if(a&&a instanceof HTMLElement)if(a===I){if(b=H.length>=4)b=(H[H.length-1]-H[H.length-4])/1E3<5;if(b){b=google.getEI(a);a.hasAttribute(\"data-ved\")?f=a?G(a)||\"\":\"\":f=(f=\n",
      "a.closest(\"[data-ved]\"))?G(f)||\"\":\"\";f=f||\"\";if(a.hasAttribute(\"jsname\"))a=a.getAttribute(\"jsname\");else{var F;a=(F=a.closest(\"[jsname]\"))==null?void 0:F.getAttribute(\"jsname\")}google.log(\"rcm\",\"&ei=\"+b+\"&tgtved=\"+f+\"&jsname=\"+(a||\"\"))}}else I=a,H=[b]}window.document.addEventListener(\"DOMContentLoaded\",function(){document.body.addEventListener(\"click\",J)});}).call(this);\n",
      "  </script>\n",
      " </body>\n",
      "</html>\n",
      "\n"
     ]
    }
   ],
   "source": [
    "if response.status_code == 200:\n",
    "    soup = BeautifulSoup(response.content, 'html.parser')\n",
    "    print(soup.prettify())  # Print the parsed HTML in a readable format\n"
   ]
  },
  {
   "cell_type": "markdown",
   "id": "ec2282b8-fc1c-4d18-bc2a-2987631f9c24",
   "metadata": {},
   "source": [
    "## Extracting Data"
   ]
  },
  {
   "cell_type": "markdown",
   "id": "7b1f832b-8cf2-4f14-886f-fc0f3041ec32",
   "metadata": {},
   "source": [
    "### Extract Text Content:"
   ]
  },
  {
   "cell_type": "code",
   "execution_count": 4,
   "id": "7d6440ce-1a11-4d8a-850e-be13ec85546d",
   "metadata": {},
   "outputs": [
    {
     "name": "stdout",
     "output_type": "stream",
     "text": [
      "Text Data: ['© 2024 - Privacy - Terms']\n"
     ]
    }
   ],
   "source": [
    "text_data = [paragraph.get_text() for paragraph in soup.find_all('p')]\n",
    "print(\"Text Data:\", text_data)\n"
   ]
  },
  {
   "cell_type": "markdown",
   "id": "c37aa03f-57a0-4dde-a108-f4f88b7e248e",
   "metadata": {},
   "source": [
    "### Extract Hyperlinks:"
   ]
  },
  {
   "cell_type": "code",
   "execution_count": 6,
   "id": "a743eadc-ea24-4b7c-9818-f8e74b288039",
   "metadata": {},
   "outputs": [
    {
     "name": "stdout",
     "output_type": "stream",
     "text": [
      "Link Data: ['https://www.google.com/imghp?hl=en&tab=wi', 'https://maps.google.co.in/maps?hl=en&tab=wl', 'https://play.google.com/?hl=en&tab=w8', 'https://www.youtube.com/?tab=w1', 'https://news.google.com/?tab=wn', 'https://mail.google.com/mail/?tab=wm', 'https://drive.google.com/?tab=wo', 'https://www.google.co.in/intl/en/about/products?tab=wh', 'http://www.google.co.in/history/optout?hl=en', '/preferences?hl=en', 'https://accounts.google.com/ServiceLogin?hl=en&passive=true&continue=https://www.google.com/&ec=GAZAAQ', '/advanced_search?hl=en-IN&authuser=0', 'https://www.google.com/setprefs?sig=0_Pi2CIamSrEne3LEuj9OOboxYrz8%3D&hl=hi&source=homepage&sa=X&ved=0ahUKEwjy-93w4-eGAxVvs1YBHTbAC-QQ2ZgBCAY', 'https://www.google.com/setprefs?sig=0_Pi2CIamSrEne3LEuj9OOboxYrz8%3D&hl=bn&source=homepage&sa=X&ved=0ahUKEwjy-93w4-eGAxVvs1YBHTbAC-QQ2ZgBCAc', 'https://www.google.com/setprefs?sig=0_Pi2CIamSrEne3LEuj9OOboxYrz8%3D&hl=te&source=homepage&sa=X&ved=0ahUKEwjy-93w4-eGAxVvs1YBHTbAC-QQ2ZgBCAg', 'https://www.google.com/setprefs?sig=0_Pi2CIamSrEne3LEuj9OOboxYrz8%3D&hl=mr&source=homepage&sa=X&ved=0ahUKEwjy-93w4-eGAxVvs1YBHTbAC-QQ2ZgBCAk', 'https://www.google.com/setprefs?sig=0_Pi2CIamSrEne3LEuj9OOboxYrz8%3D&hl=ta&source=homepage&sa=X&ved=0ahUKEwjy-93w4-eGAxVvs1YBHTbAC-QQ2ZgBCAo', 'https://www.google.com/setprefs?sig=0_Pi2CIamSrEne3LEuj9OOboxYrz8%3D&hl=gu&source=homepage&sa=X&ved=0ahUKEwjy-93w4-eGAxVvs1YBHTbAC-QQ2ZgBCAs', 'https://www.google.com/setprefs?sig=0_Pi2CIamSrEne3LEuj9OOboxYrz8%3D&hl=kn&source=homepage&sa=X&ved=0ahUKEwjy-93w4-eGAxVvs1YBHTbAC-QQ2ZgBCAw', 'https://www.google.com/setprefs?sig=0_Pi2CIamSrEne3LEuj9OOboxYrz8%3D&hl=ml&source=homepage&sa=X&ved=0ahUKEwjy-93w4-eGAxVvs1YBHTbAC-QQ2ZgBCA0', 'https://www.google.com/setprefs?sig=0_Pi2CIamSrEne3LEuj9OOboxYrz8%3D&hl=pa&source=homepage&sa=X&ved=0ahUKEwjy-93w4-eGAxVvs1YBHTbAC-QQ2ZgBCA4', '/intl/en/ads/', 'http://www.google.co.in/services/', '/intl/en/about.html', 'https://www.google.com/setprefdomain?prefdom=IN&prev=https://www.google.co.in/&sig=K_DDtQ2BzU-U4rjiEhhF_qFvnyyvU%3D', '/intl/en/policies/privacy/', '/intl/en/policies/terms/']\n"
     ]
    }
   ],
   "source": [
    "link_data = [link.get('href') for link in soup.find_all('a')]\n",
    "print(\"Link Data:\", link_data)\n"
   ]
  },
  {
   "cell_type": "markdown",
   "id": "82735403-bf62-4dd5-88c4-eb44b58c2444",
   "metadata": {},
   "source": [
    "### Extract Image Sources:"
   ]
  },
  {
   "cell_type": "code",
   "execution_count": 7,
   "id": "0f9f519a-2901-4185-a674-741ff4cb456c",
   "metadata": {},
   "outputs": [
    {
     "name": "stdout",
     "output_type": "stream",
     "text": [
      "Image Data: ['/images/branding/googlelogo/1x/googlelogo_white_background_color_272x92dp.png']\n"
     ]
    }
   ],
   "source": [
    "image_data = [image.get('src') for image in soup.find_all('img')]\n",
    "print(\"Image Data:\", image_data)\n"
   ]
  },
  {
   "cell_type": "markdown",
   "id": "d5985bb4-7c2d-4c9c-aa8c-e731060423ae",
   "metadata": {},
   "source": [
    "## Storing Data in a Structured Format"
   ]
  },
  {
   "cell_type": "markdown",
   "id": "0b27db37-ecfb-48ab-a38f-8ef200258a7b",
   "metadata": {},
   "source": [
    "### Store Extracted Data in a Pandas DataFrame:"
   ]
  },
  {
   "cell_type": "code",
   "execution_count": 14,
   "id": "31d65958-76db-4589-b146-f90db8c448e4",
   "metadata": {},
   "outputs": [
    {
     "name": "stdout",
     "output_type": "stream",
     "text": [
      "                       Text                                        Links  \\\n",
      "0  © 2024 - Privacy - Terms    https://www.google.com/imghp?hl=en&tab=wi   \n",
      "1                      None  https://maps.google.co.in/maps?hl=en&tab=wl   \n",
      "2                      None        https://play.google.com/?hl=en&tab=w8   \n",
      "3                      None              https://www.youtube.com/?tab=w1   \n",
      "4                      None              https://news.google.com/?tab=wn   \n",
      "\n",
      "                                              Images  \n",
      "0  /images/branding/googlelogo/1x/googlelogo_whit...  \n",
      "1                                               None  \n",
      "2                                               None  \n",
      "3                                               None  \n",
      "4                                               None  \n"
     ]
    }
   ],
   "source": [
    "# Find the maximum length among the lists\n",
    "max_length = max(len(text_data), len(link_data), len(image_data))\n",
    "\n",
    "    # Pad the lists to make them of equal length\n",
    "text_data.extend([None] * (max_length - len(text_data)))\n",
    "link_data.extend([None] * (max_length - len(link_data)))\n",
    "image_data.extend([None] * (max_length - len(image_data)))\n",
    "\n",
    "    # Store data in a Pandas DataFrame\n",
    "data = {\n",
    "        'Text': text_data,\n",
    "        'Links': link_data,\n",
    "        'Images': image_data\n",
    "    }\n",
    "\n",
    "df = pd.DataFrame(data)\n",
    "print(df.head())  # Display the first few rows of the DataFrame\n"
   ]
  },
  {
   "cell_type": "markdown",
   "id": "8309ec7d-6c84-4412-8979-5f38b843e859",
   "metadata": {},
   "source": [
    "### Save Data to CSV File:"
   ]
  },
  {
   "cell_type": "code",
   "execution_count": 15,
   "id": "de963aac-ec52-4816-8caf-6d60ef0bbd49",
   "metadata": {},
   "outputs": [
    {
     "name": "stdout",
     "output_type": "stream",
     "text": [
      "Data saved to scraped_data.csv\n"
     ]
    }
   ],
   "source": [
    "df.to_csv('scraped_data.csv', index=False)\n",
    "print(\"Data saved to scraped_data.csv\")\n"
   ]
  },
  {
   "cell_type": "markdown",
   "id": "f62829ed-010d-497e-b485-cfc8d88d3763",
   "metadata": {},
   "source": [
    "### Accessing the CSV file"
   ]
  },
  {
   "cell_type": "code",
   "execution_count": 16,
   "id": "e968bbb2-d9f2-407f-b9f0-3a3d37d65df7",
   "metadata": {},
   "outputs": [
    {
     "name": "stdout",
     "output_type": "stream",
     "text": [
      "                       Text                                        Links  \\\n",
      "0  © 2024 - Privacy - Terms    https://www.google.com/imghp?hl=en&tab=wi   \n",
      "1                       NaN  https://maps.google.co.in/maps?hl=en&tab=wl   \n",
      "2                       NaN        https://play.google.com/?hl=en&tab=w8   \n",
      "3                       NaN              https://www.youtube.com/?tab=w1   \n",
      "4                       NaN              https://news.google.com/?tab=wn   \n",
      "\n",
      "                                              Images  \n",
      "0  /images/branding/googlelogo/1x/googlelogo_whit...  \n",
      "1                                                NaN  \n",
      "2                                                NaN  \n",
      "3                                                NaN  \n",
      "4                                                NaN  \n",
      "                       Text                                      Links  \\\n",
      "0  © 2024 - Privacy - Terms  https://www.google.com/imghp?hl=en&tab=wi   \n",
      "\n",
      "                                              Images  \n",
      "0  /images/branding/googlelogo/1x/googlelogo_whit...  \n"
     ]
    }
   ],
   "source": [
    "import pandas as pd\n",
    "\n",
    "# Read the CSV file\n",
    "df = pd.read_csv('scraped_data.csv')\n",
    "\n",
    "# Display the first few rows of the DataFrame\n",
    "print(df.head())\n",
    "\n",
    "# Perform any other data manipulation or analysis\n",
    "# For example, filtering rows where 'Text' is not None\n",
    "filtered_df = df[df['Text'].notna()]\n",
    "print(filtered_df.head())\n"
   ]
  },
  {
   "cell_type": "code",
   "execution_count": null,
   "id": "95e69a1c-94b3-4507-9ccd-08eda06f9a49",
   "metadata": {},
   "outputs": [],
   "source": []
  }
 ],
 "metadata": {
  "kernelspec": {
   "display_name": "Python 3 (ipykernel)",
   "language": "python",
   "name": "python3"
  },
  "language_info": {
   "codemirror_mode": {
    "name": "ipython",
    "version": 3
   },
   "file_extension": ".py",
   "mimetype": "text/x-python",
   "name": "python",
   "nbconvert_exporter": "python",
   "pygments_lexer": "ipython3",
   "version": "3.11.7"
  }
 },
 "nbformat": 4,
 "nbformat_minor": 5
}
