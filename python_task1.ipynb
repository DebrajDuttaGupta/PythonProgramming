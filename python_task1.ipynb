{
 "cells": [
  {
   "cell_type": "code",
   "execution_count": 1,
   "id": "08f193d9",
   "metadata": {},
   "outputs": [
    {
     "name": "stdout",
     "output_type": "stream",
     "text": [
      "Sum: 15\n",
      "Difference: 5\n",
      "Product: 50\n",
      "Quotient: 2.0\n",
      "Remainder: 0\n"
     ]
    }
   ],
   "source": [
    "# Addition\n",
    "a = 10\n",
    "b = 5\n",
    "sum_result = a + b\n",
    "print(\"Sum:\", sum_result)\n",
    "\n",
    "# Subtraction\n",
    "difference = a - b\n",
    "print(\"Difference:\", difference)\n",
    "\n",
    "# Multiplication\n",
    "product = a * b\n",
    "print(\"Product:\", product)\n",
    "\n",
    "# Division\n",
    "quotient = a / b\n",
    "print(\"Quotient:\", quotient)\n",
    "\n",
    "# Modulus\n",
    "remainder = a % b\n",
    "print(\"Remainder:\", remainder)\n"
   ]
  },
  {
   "cell_type": "code",
   "execution_count": 2,
   "id": "7e742875",
   "metadata": {},
   "outputs": [
    {
     "name": "stdout",
     "output_type": "stream",
     "text": [
      "Concatenated String: Hello World\n",
      "Sliced String: Hello\n",
      "Upper Case String: HELLO WORLD\n",
      "Lower Case String: hello world\n",
      "Position of 'World': 6\n"
     ]
    }
   ],
   "source": [
    "# Concatenation\n",
    "str1 = \"Hello\"\n",
    "str2 = \"World\"\n",
    "concatenated_str = str1 + \" \" + str2\n",
    "print(\"Concatenated String:\", concatenated_str)\n",
    "\n",
    "# Slicing\n",
    "sliced_str = concatenated_str[0:5]\n",
    "print(\"Sliced String:\", sliced_str)\n",
    "\n",
    "# Changing case\n",
    "upper_str = concatenated_str.upper()\n",
    "print(\"Upper Case String:\", upper_str)\n",
    "lower_str = concatenated_str.lower()\n",
    "print(\"Lower Case String:\", lower_str)\n",
    "\n",
    "# Finding substrings\n",
    "position = concatenated_str.find(\"World\")\n",
    "print(\"Position of 'World':\", position)\n"
   ]
  },
  {
   "cell_type": "code",
   "execution_count": 3,
   "id": "6f718d9f",
   "metadata": {},
   "outputs": [
    {
     "name": "stdout",
     "output_type": "stream",
     "text": [
      "The number is positive\n",
      "The number is even\n",
      "B\n"
     ]
    }
   ],
   "source": [
    "# If statement\n",
    "number = 10\n",
    "if number > 0:\n",
    "    print(\"The number is positive\")\n",
    "\n",
    "# If-else statement\n",
    "if number % 2 == 0:\n",
    "    print(\"The number is even\")\n",
    "else:\n",
    "    print(\"The number is odd\")\n",
    "\n",
    "# Elif statement\n",
    "grade = 85\n",
    "if grade >= 90:\n",
    "    print(\"A\")\n",
    "elif grade >= 80:\n",
    "    print(\"B\")\n",
    "elif grade >= 70:\n",
    "    print(\"C\")\n",
    "else:\n",
    "    print(\"F\")\n"
   ]
  },
  {
   "cell_type": "code",
   "execution_count": 4,
   "id": "acbf3b66",
   "metadata": {},
   "outputs": [
    {
     "name": "stdout",
     "output_type": "stream",
     "text": [
      "Fruits: ['apple', 'banana', 'cherry']\n",
      "First fruit: apple\n",
      "Fruits after adding date: ['apple', 'banana', 'cherry', 'date']\n",
      "Fruits after removing banana: ['apple', 'cherry', 'date']\n"
     ]
    }
   ],
   "source": [
    "# Creating a list\n",
    "fruits = [\"apple\", \"banana\", \"cherry\"]\n",
    "print(\"Fruits:\", fruits)\n",
    "\n",
    "# Accessing elements\n",
    "print(\"First fruit:\", fruits[0])\n",
    "\n",
    "# Adding elements\n",
    "fruits.append(\"date\")\n",
    "print(\"Fruits after adding date:\", fruits)\n",
    "\n",
    "# Removing elements\n",
    "fruits.remove(\"banana\")\n",
    "print(\"Fruits after removing banana:\", fruits)\n"
   ]
  },
  {
   "cell_type": "code",
   "execution_count": 5,
   "id": "e95ebd3e",
   "metadata": {},
   "outputs": [
    {
     "name": "stdout",
     "output_type": "stream",
     "text": [
      "Student: {'name': 'John', 'age': 21, 'course': 'Computer Science'}\n",
      "Student's name: John\n",
      "Student after adding grade: {'name': 'John', 'age': 21, 'course': 'Computer Science', 'grade': 'A'}\n",
      "Student after removing age: {'name': 'John', 'course': 'Computer Science', 'grade': 'A'}\n"
     ]
    }
   ],
   "source": [
    "# Creating a dictionary\n",
    "student = {\"name\": \"John\", \"age\": 21, \"course\": \"Computer Science\"}\n",
    "print(\"Student:\", student)\n",
    "\n",
    "# Accessing values\n",
    "print(\"Student's name:\", student[\"name\"])\n",
    "\n",
    "# Adding a key-value pair\n",
    "student[\"grade\"] = \"A\"\n",
    "print(\"Student after adding grade:\", student)\n",
    "\n",
    "# Removing a key-value pair\n",
    "del student[\"age\"]\n",
    "print(\"Student after removing age:\", student)\n"
   ]
  },
  {
   "cell_type": "code",
   "execution_count": 8,
   "id": "fe8abf3e",
   "metadata": {},
   "outputs": [
    {
     "name": "stdout",
     "output_type": "stream",
     "text": [
      "Tuple: (1, 2, 3, 4, 5)\n",
      "First element: 1\n",
      "Second element: 2\n",
      "Sliced Tuple: (2, 3, 4)\n",
      "New Tuple: (1, 2, 3, 4, 5, 6, 7)\n",
      "Unpacked Values: 1 2 3 4 5\n",
      "Count of 3: 1\n",
      "Index of 4: 3\n",
      "Nested Tuple: (1, 2, (3, 4), (5, 6))\n",
      "Inner Tuple: (3, 4)\n",
      "Element of Inner Tuple: 4\n"
     ]
    }
   ],
   "source": [
    "# Creating a tuple\n",
    "my_tuple = (1, 2, 3, 4, 5)\n",
    "print(\"Tuple:\", my_tuple)\n",
    "\n",
    "# Accessing elements\n",
    "first_element = my_tuple[0]\n",
    "print(\"First element:\", first_element)\n",
    "\n",
    "second_element = my_tuple[1]\n",
    "print(\"Second element:\", second_element)\n",
    "# Slicing a tuple\n",
    "sub_tuple = my_tuple[1:4]  # Gets elements from index 1 to 3\n",
    "print(\"Sliced Tuple:\", sub_tuple)\n",
    "# Trying to modify an element will result in an error\n",
    "# my_tuple[0] = 10  # This will raise a TypeError\n",
    "\n",
    "# However, you can create a new tuple from existing ones\n",
    "new_tuple = my_tuple + (6, 7)\n",
    "print(\"New Tuple:\", new_tuple)\n",
    "# Unpacking a tuple\n",
    "a, b, c, d, e = my_tuple\n",
    "print(\"Unpacked Values:\", a, b, c, d, e)\n",
    "# Using tuple methods\n",
    "count_of_3 = my_tuple.count(3)\n",
    "print(\"Count of 3:\", count_of_3)\n",
    "\n",
    "index_of_4 = my_tuple.index(4)\n",
    "print(\"Index of 4:\", index_of_4)\n",
    "# Creating a nested tuple\n",
    "nested_tuple = (1, 2, (3, 4), (5, 6))\n",
    "print(\"Nested Tuple:\", nested_tuple)\n",
    "\n",
    "# Accessing elements in a nested tuple\n",
    "inner_tuple = nested_tuple[2]\n",
    "print(\"Inner Tuple:\", inner_tuple)\n",
    "print(\"Element of Inner Tuple:\", inner_tuple[1])\n",
    "\n"
   ]
  },
  {
   "cell_type": "code",
   "execution_count": null,
   "id": "e318cfe9",
   "metadata": {},
   "outputs": [],
   "source": []
  }
 ],
 "metadata": {
  "kernelspec": {
   "display_name": "Python 3 (ipykernel)",
   "language": "python",
   "name": "python3"
  },
  "language_info": {
   "codemirror_mode": {
    "name": "ipython",
    "version": 3
   },
   "file_extension": ".py",
   "mimetype": "text/x-python",
   "name": "python",
   "nbconvert_exporter": "python",
   "pygments_lexer": "ipython3",
   "version": "3.11.5"
  }
 },
 "nbformat": 4,
 "nbformat_minor": 5
}
